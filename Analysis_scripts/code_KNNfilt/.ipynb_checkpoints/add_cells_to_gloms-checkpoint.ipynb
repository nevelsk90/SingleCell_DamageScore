{
 "cells": [
  {
   "cell_type": "code",
   "execution_count": 10,
   "metadata": {
    "editable": true,
    "slideshow": {
     "slide_type": ""
    },
    "tags": []
   },
   "outputs": [],
   "source": [
    "import pandas as pd\n",
    "import numpy as np\n",
    "import glob\n",
    "from sklearn.cluster import KMeans\n",
    "from shapely.geometry import Point\n",
    "import matplotlib.pyplot as plt\n",
    "import os"
   ]
  },
  {
   "cell_type": "markdown",
   "metadata": {
    "editable": true,
    "slideshow": {
     "slide_type": ""
    },
    "tags": []
   },
   "source": [
    "### Function defns"
   ]
  },
  {
   "cell_type": "code",
   "execution_count": 11,
   "metadata": {
    "editable": true,
    "slideshow": {
     "slide_type": ""
    },
    "tags": []
   },
   "outputs": [],
   "source": [
    "# compute_cluster_radii helper function\n",
    "# computes distance between two coordinates\n",
    "def single_dist(coord1,coord2):\n",
    "    dist = Point(coord1).distance(Point(coord2))\n",
    "    return(dist)\n",
    "\n",
    "# structure_assigner helper function\n",
    "# input: kmeans cluster centers and tuples eroded points and which cluster they each belong to\n",
    "# returns radius of each cluster\n",
    "def compute_cluster_radii(cluster_centers, eroded):\n",
    "    radii = []\n",
    "    clusters = np.unique(eroded['cluster'])\n",
    "    \n",
    "    for i,cluster in enumerate(clusters):\n",
    "        center = cluster_centers[i]\n",
    "        cluster = eroded[eroded['cluster']==cluster].copy()\n",
    "        cluster_coords = np.array(cluster[['x','y']])\n",
    "        d_to_center = [single_dist(c,center) for c in cluster_coords]\n",
    "        radii.append(max(d_to_center))   \n",
    "    \n",
    "    return(radii)\n",
    "\n",
    "def is_in_circle(coord,center,r):\n",
    "    return(single_dist(coord,center) < r)\n",
    "\n",
    "# input: centers of curated podocyte clusters, curated podocyte beads, other celltypes to be added\n",
    "# assigns all other coordinates assigned cell types other than marker to structure components\n",
    "# returns data frame with all coords within structure, their cluster assignments, and cell type assignments\n",
    "def assign_other_celltypes(cluster_centers, eroded, other, cell_type):\n",
    "    radii = compute_cluster_radii(cluster_centers,eroded)\n",
    "    other = other[other['cell_type']==cell_type].copy()\n",
    "    other_coords = np.array(other[['x','y']])\n",
    "    other_barcodes = [x[0] for x in np.array(other[['barcode']])]\n",
    "    n_clusters = len(cluster_centers)\n",
    "    result = []\n",
    "    for i in range(len(other_coords)):\n",
    "        for j in range(n_clusters):\n",
    "            if(is_in_circle(other_coords[i],cluster_centers[j],radii[j])):\n",
    "                to_append = [other_barcodes[i],j]\n",
    "                result.append(to_append)\n",
    "                break\n",
    "    return(result)"
   ]
  },
  {
   "cell_type": "markdown",
   "metadata": {
    "editable": true,
    "slideshow": {
     "slide_type": ""
    },
    "tags": []
   },
   "source": [
    "### File input"
   ]
  },
  {
   "cell_type": "code",
   "execution_count": 26,
   "metadata": {
    "editable": true,
    "slideshow": {
     "slide_type": ""
    },
    "tags": []
   },
   "outputs": [],
   "source": [
    "# input_path is path to data matrix with beads x features for all curated podocytes\n",
    "# features = {'barcode','x','y'} \n",
    "input_path = '/media/tim_nevelsk/WD_tim/PROJECTS/PODOCYTES/Spatial.Transcr/GSE190094_RAW/BTBR/podoClust/BeadLocationsPodoTim/GSM5713333_BeadLocationsAll_eroded.csv'\n",
    "allcells_dat=pd.read_csv(input_path,index_col=0)\n",
    "\n",
    "# select podocyte and non-podocyte cells\n",
    "podo_dat = allcells_dat[allcells_dat ['cell_type'] == 'Podocyte' ]\n",
    "podo_dat = podo_dat.reset_index()\n",
    "podo_dat = podo_dat.drop(columns={'index'})\n",
    "other_cells_dat = allcells_dat[ allcells_dat ['cell_type'] != 'Podocyte' ]\n",
    "other_cells_dat = other_cells_dat.reset_index()\n",
    "other_cells_dat = other_cells_dat.drop(columns={'index'})"
   ]
  },
  {
   "cell_type": "markdown",
   "metadata": {
    "editable": true,
    "slideshow": {
     "slide_type": ""
    },
    "tags": []
   },
   "source": [
    "### Analysis"
   ]
  },
  {
   "cell_type": "code",
   "execution_count": 9,
   "metadata": {
    "editable": true,
    "slideshow": {
     "slide_type": ""
    },
    "tags": []
   },
   "outputs": [
    {
     "data": {
      "image/png": "[encoded data removed]",
      "text/plain": [
       "<Figure size 1000x1000 with 1 Axes>"
      ]
     },
     "metadata": {},
     "output_type": "display_data"
    }
   ],
   "source": [
    "### visualize podocytes to determine number of glomeruli (n_clusters param)\n",
    "plt.figure(figsize=(10,10))\n",
    "plt.scatter(podo_dat['x'],podo_dat['y'],s=3,c='b')\n",
    "plt.xlim(0,6000)\n",
    "plt.ylim(0,6000)\n",
    "plt.show()"
   ]
  },
  {
   "cell_type": "code",
   "execution_count": 27,
   "metadata": {},
   "outputs": [
    {
     "name": "stderr",
     "output_type": "stream",
     "text": [
      "/home/tim_nevelsk/.local/lib/python3.8/site-packages/sklearn/cluster/_kmeans.py:870: FutureWarning: The default value of `n_init` will change from 10 to 'auto' in 1.4. Set the value of `n_init` explicitly to suppress the warning\n",
      "  warnings.warn(\n"
     ]
    }
   ],
   "source": [
    "### find cluster centers of curated podocyte markers\n",
    "# set n_clusters to number of podocyte clusters in array\n",
    "n_clusters=23\n",
    "coords = np.array(podo_dat[['x','y']])\n",
    "kmeans = KMeans(n_clusters=n_clusters, random_state=0).fit(coords)\n",
    "podo_cluster_centers = kmeans.cluster_centers_\n",
    "labels = kmeans.labels_\n",
    "podo_dat['cluster'] = labels"
   ]
  },
  {
   "cell_type": "code",
   "execution_count": null,
   "metadata": {
    "editable": true,
    "slideshow": {
     "slide_type": ""
    },
    "tags": []
   },
   "outputs": [],
   "source": [
    "### find mesangial cells in glomerular areas\n",
    "mesangial_in_glom = assign_other_celltypes(podo_cluster_centers,podo_dat,other_cells_dat,'MC')\n",
    "mesangial_in_glom = pd.DataFrame(mesangial_in_glom)\n",
    "mesangial_in_glom = mesangial_in_glom.rename(columns={0:'barcode',1:'cluster'})\n",
    "mesangial_in_glom = other_cells_dat.merge(mesangial_in_glom,on='barcode')\n",
    "\n",
    "### find endothelial cells in glomerular areas\n",
    "endothelial_in_glom = assign_other_celltypes(podo_cluster_centers,podo_dat,other_cells_dat,'EC')\n",
    "endothelial_in_glom = pd.DataFrame(endothelial_in_glom)\n",
    "endothelial_in_glom = endothelial_in_glom.rename(columns={0:'barcode',1:'cluster'})\n",
    "endothelial_in_glom = other_cells_dat.merge(endothelial_in_glom,on='barcode')\n",
    "\n",
    "### find old podo cells in glomerular areas\n",
    "oldP_in_glom = assign_other_celltypes(podo_cluster_centers,podo_dat,other_cells_dat,'oldPodo')\n",
    "oldP_in_glom = pd.DataFrame(oldP_in_glom)\n",
    "oldP_in_glom = oldP_in_glom.rename(columns={0:'barcode',1:'cluster'})\n",
    "oldP_in_glom = other_cells_dat.merge(oldP_in_glom,on='barcode')\n",
    "\n",
    "podo_dat['cell_type']=['Podocyte']*podo_dat.shape[0]\n",
    "podo_dat = podo_dat[['barcode','x','y','cell_type','cluster']]\n",
    "\n",
    "final = pd.concat([podo_dat,mesangial_in_glom,endothelial_in_glom,oldP_in_glom])\n",
    "final = final.reset_index()\n",
    "final = final.drop(columns={'index'})"
   ]
  },
  {
   "cell_type": "code",
   "execution_count": 17,
   "metadata": {
    "editable": true,
    "slideshow": {
     "slide_type": ""
    },
    "tags": []
   },
   "outputs": [],
   "source": [
    "# out_path is path to output file\n",
    "out_path = '/home/tim_nevelsk/PROJECTS/PODOCYTE/DiseaseScore/Development_Validation/Spatial.trnscrptm/GSE190094/GSM5713333.all_glomerular_cells.csv'\n",
    "final.to_csv(out_path)"
   ]
  },
  {
   "cell_type": "markdown",
   "metadata": {
    "editable": true,
    "slideshow": {
     "slide_type": ""
    },
    "tags": []
   },
   "source": [
    "### Plot filtered podocytes for a list of samples"
   ]
  },
  {
   "cell_type": "code",
   "execution_count": 39,
   "metadata": {
    "editable": true,
    "slideshow": {
     "slide_type": ""
    },
    "tags": []
   },
   "outputs": [],
   "source": [
    "# directory with coordinate files\n",
    "input_dir = '/media/tim_nevelsk/WD_tim/PROJECTS/PODOCYTES/Spatial.Transcr/GSE190094_RAW/BTBR/test8/TimsPodoAnnot/*KNN_eroded.csv'\n",
    "# Turn interactive plotting off\n",
    "plt.ioff()\n",
    "\n",
    "for file in glob.glob(input_dir):\n",
    "\n",
    "    # read in coordinate file\n",
    "    allcells_dat=pd.read_csv(file,index_col=0)\n",
    "\n",
    "    # select podocyte and non-podocyte cells\n",
    "    podo_dat = allcells_dat[allcells_dat ['cell_type'] == 'Podocyte' ]\n",
    "    podo_dat = podo_dat.reset_index()\n",
    "    podo_dat = podo_dat.drop(columns={'index'})\n",
    "    other_cells_dat = allcells_dat[ allcells_dat ['cell_type'] != 'Podocyte' ]\n",
    "    other_cells_dat = other_cells_dat.reset_index()\n",
    "    other_cells_dat = other_cells_dat.drop(columns={'index'})\n",
    "\n",
    "    ### visualize podocytes to determine number of glomeruli (n_clusters param)\n",
    "    plt.figure(figsize=(10,10))\n",
    "    plt.scatter(podo_dat['x'],podo_dat['y'],s=3,c='b')\n",
    "    plt.xlim(0,6000)\n",
    "    plt.ylim(0,6000)\n",
    "    plt.savefig( file.replace(\"KNN_eroded\",\"podo_image\").replace(\"csv\",\"png\"))\n",
    "    plt.close()"
   ]
  },
  {
   "cell_type": "markdown",
   "metadata": {
    "editable": true,
    "slideshow": {
     "slide_type": ""
    },
    "tags": []
   },
   "source": [
    "### Add other ctypes to gloms for a list of files"
   ]
  },
  {
   "cell_type": "code",
   "execution_count": 36,
   "metadata": {},
   "outputs": [
    {
     "name": "stdout",
     "output_type": "stream",
     "text": [
      "0\n",
      "/media/tim_nevelsk/WD_tim/PROJECTS/PODOCYTES/Spatial.Transcr/GSE190094_RAW/BTBR/podoClust/test/GSM5713372_BeadLocationsAll_eroded.csv\n",
      "9\n"
     ]
    },
    {
     "name": "stderr",
     "output_type": "stream",
     "text": [
      "/home/tim_nevelsk/.local/lib/python3.8/site-packages/sklearn/cluster/_kmeans.py:870: FutureWarning: The default value of `n_init` will change from 10 to 'auto' in 1.4. Set the value of `n_init` explicitly to suppress the warning\n",
      "  warnings.warn(\n"
     ]
    },
    {
     "name": "stdout",
     "output_type": "stream",
     "text": [
      "1\n",
      "/media/tim_nevelsk/WD_tim/PROJECTS/PODOCYTES/Spatial.Transcr/GSE190094_RAW/BTBR/podoClust/test/GSM5713373_BeadLocationsAll_eroded.csv\n",
      "15\n"
     ]
    },
    {
     "name": "stderr",
     "output_type": "stream",
     "text": [
      "/home/tim_nevelsk/.local/lib/python3.8/site-packages/sklearn/cluster/_kmeans.py:870: FutureWarning: The default value of `n_init` will change from 10 to 'auto' in 1.4. Set the value of `n_init` explicitly to suppress the warning\n",
      "  warnings.warn(\n"
     ]
    },
    {
     "name": "stdout",
     "output_type": "stream",
     "text": [
      "2\n",
      "/media/tim_nevelsk/WD_tim/PROJECTS/PODOCYTES/Spatial.Transcr/GSE190094_RAW/BTBR/podoClust/test/GSM5713374_BeadLocationsAll_eroded.csv\n",
      "16\n"
     ]
    },
    {
     "name": "stderr",
     "output_type": "stream",
     "text": [
      "/home/tim_nevelsk/.local/lib/python3.8/site-packages/sklearn/cluster/_kmeans.py:870: FutureWarning: The default value of `n_init` will change from 10 to 'auto' in 1.4. Set the value of `n_init` explicitly to suppress the warning\n",
      "  warnings.warn(\n"
     ]
    },
    {
     "name": "stdout",
     "output_type": "stream",
     "text": [
      "3\n",
      "/media/tim_nevelsk/WD_tim/PROJECTS/PODOCYTES/Spatial.Transcr/GSE190094_RAW/BTBR/podoClust/test/GSM5713375_BeadLocationsAll_eroded.csv\n",
      "23\n"
     ]
    },
    {
     "name": "stderr",
     "output_type": "stream",
     "text": [
      "/home/tim_nevelsk/.local/lib/python3.8/site-packages/sklearn/cluster/_kmeans.py:870: FutureWarning: The default value of `n_init` will change from 10 to 'auto' in 1.4. Set the value of `n_init` explicitly to suppress the warning\n",
      "  warnings.warn(\n"
     ]
    },
    {
     "name": "stdout",
     "output_type": "stream",
     "text": [
      "4\n",
      "/media/tim_nevelsk/WD_tim/PROJECTS/PODOCYTES/Spatial.Transcr/GSE190094_RAW/BTBR/podoClust/test/GSM5713376_BeadLocationsAll_eroded.csv\n",
      "20\n"
     ]
    },
    {
     "name": "stderr",
     "output_type": "stream",
     "text": [
      "/home/tim_nevelsk/.local/lib/python3.8/site-packages/sklearn/cluster/_kmeans.py:870: FutureWarning: The default value of `n_init` will change from 10 to 'auto' in 1.4. Set the value of `n_init` explicitly to suppress the warning\n",
      "  warnings.warn(\n"
     ]
    },
    {
     "name": "stdout",
     "output_type": "stream",
     "text": [
      "5\n",
      "/media/tim_nevelsk/WD_tim/PROJECTS/PODOCYTES/Spatial.Transcr/GSE190094_RAW/BTBR/podoClust/test/GSM5713377_BeadLocationsAll_eroded.csv\n",
      "21\n"
     ]
    },
    {
     "name": "stderr",
     "output_type": "stream",
     "text": [
      "/home/tim_nevelsk/.local/lib/python3.8/site-packages/sklearn/cluster/_kmeans.py:870: FutureWarning: The default value of `n_init` will change from 10 to 'auto' in 1.4. Set the value of `n_init` explicitly to suppress the warning\n",
      "  warnings.warn(\n"
     ]
    },
    {
     "name": "stdout",
     "output_type": "stream",
     "text": [
      "6\n",
      "/media/tim_nevelsk/WD_tim/PROJECTS/PODOCYTES/Spatial.Transcr/GSE190094_RAW/BTBR/podoClust/test/GSM5713378_BeadLocationsAll_eroded.csv\n",
      "21\n"
     ]
    },
    {
     "name": "stderr",
     "output_type": "stream",
     "text": [
      "/home/tim_nevelsk/.local/lib/python3.8/site-packages/sklearn/cluster/_kmeans.py:870: FutureWarning: The default value of `n_init` will change from 10 to 'auto' in 1.4. Set the value of `n_init` explicitly to suppress the warning\n",
      "  warnings.warn(\n"
     ]
    },
    {
     "name": "stdout",
     "output_type": "stream",
     "text": [
      "7\n",
      "/media/tim_nevelsk/WD_tim/PROJECTS/PODOCYTES/Spatial.Transcr/GSE190094_RAW/BTBR/podoClust/test/GSM5713380_BeadLocationsAll_eroded.csv\n",
      "21\n"
     ]
    },
    {
     "name": "stderr",
     "output_type": "stream",
     "text": [
      "/home/tim_nevelsk/.local/lib/python3.8/site-packages/sklearn/cluster/_kmeans.py:870: FutureWarning: The default value of `n_init` will change from 10 to 'auto' in 1.4. Set the value of `n_init` explicitly to suppress the warning\n",
      "  warnings.warn(\n"
     ]
    }
   ],
   "source": [
    "# directory with coordinate files\n",
    "# input_dir = '/media/tim_nevelsk/WD_tim/PROJECTS/PODOCYTES/Spatial.Transcr/GSE190094_RAW/BTBR/podoClust/BeadLocationsPodoTim/*All_eroded.csv'\n",
    "input_dir = '/media/tim_nevelsk/WD_tim/PROJECTS/PODOCYTES/Spatial.Transcr/GSE190094_RAW/BTBR/podoClust/test/*All_eroded.csv'\n",
    "\n",
    "# list of files\n",
    "input_files = glob.glob(input_dir)\n",
    "input_files = sorted(input_files)\n",
    "\n",
    "# list of K parameters for each sample\n",
    "# K = [22,11,14,15,7,18,17,19] for og podo annotations\n",
    "# K = [23,12,23,25,16,22,17,32] # GSM5713333,42,71,75,76,78,48,69\n",
    "K = [23,15,6,17,8,11,10,6,10,18,34,18,15,19,22,29,16,7,25,11,18,9,15,16,23,20,21,21,21] # GSM5713333,42,75,76,78,48,69, removed sample 71\n",
    "# K = [9,15,16,23,20,21,21,21] # GSM5713333,42,75,76,78,48,69, removed sample 71\n",
    "\n",
    "\n",
    "for ii in range(len(input_files)) :\n",
    "\n",
    "    print(ii)\n",
    "\n",
    "    file_in = input_files[ii]\n",
    "    print(file_in)\n",
    "    # read in coordinate file\n",
    "    allcells_dat=pd.read_csv(file_in,index_col=0)\n",
    "\n",
    "    # select podocyte and non-podocyte cells\n",
    "    podo_dat = allcells_dat[allcells_dat ['cell_type'] == 'Podocyte' ]\n",
    "    podo_dat = podo_dat.reset_index()\n",
    "    podo_dat = podo_dat.drop(columns={'index'})\n",
    "    other_cells_dat = allcells_dat[ allcells_dat ['cell_type'] != 'Podocyte' ]\n",
    "    other_cells_dat = other_cells_dat.reset_index()\n",
    "    other_cells_dat = other_cells_dat.drop(columns={'index'})\n",
    "    \n",
    "    ### find cluster centers of curated podocyte markers\n",
    "    # set n_clusters to number of podocyte clusters in array\n",
    "    n_clusters=K[ii]\n",
    "    print(n_clusters)\n",
    "\n",
    "    coords = np.array(podo_dat[['x','y']])\n",
    "    kmeans = KMeans(n_clusters=n_clusters, random_state=42 ).fit(coords)\n",
    "    podo_cluster_centers = kmeans.cluster_centers_\n",
    "    labels = kmeans.labels_\n",
    "    podo_dat['cluster'] = labels\n",
    "\n",
    "    ### find mesangial cells in glomerular areas\n",
    "    mesangial_in_glom = assign_other_celltypes(podo_cluster_centers,podo_dat,other_cells_dat,'MC')\n",
    "    mesangial_in_glom = pd.DataFrame(mesangial_in_glom)\n",
    "    mesangial_in_glom = mesangial_in_glom.rename(columns={0:'barcode',1:'cluster'})\n",
    "    mesangial_in_glom = other_cells_dat.merge(mesangial_in_glom,on='barcode')\n",
    "    \n",
    "    ### find endothelial cells in glomerular areas\n",
    "    endothelial_in_glom = assign_other_celltypes(podo_cluster_centers,podo_dat,other_cells_dat,'EC')\n",
    "    endothelial_in_glom = pd.DataFrame(endothelial_in_glom)\n",
    "    endothelial_in_glom = endothelial_in_glom.rename(columns={0:'barcode',1:'cluster'})\n",
    "    endothelial_in_glom = other_cells_dat.merge(endothelial_in_glom,on='barcode')\n",
    "\n",
    "    ### find old podo cells in glomerular areas\n",
    "    oldP_in_glom = assign_other_celltypes(podo_cluster_centers,podo_dat,other_cells_dat,'oldPodo')\n",
    "    oldP_in_glom = pd.DataFrame(oldP_in_glom)\n",
    "    oldP_in_glom = oldP_in_glom.rename(columns={0:'barcode',1:'cluster'})\n",
    "    oldP_in_glom = other_cells_dat.merge(oldP_in_glom,on='barcode')\n",
    "\n",
    "    \n",
    "    podo_dat['cell_type']=['Podocyte']*podo_dat.shape[0]\n",
    "    podo_dat = podo_dat[['barcode','x','y','cell_type','cluster']]\n",
    "    \n",
    "    final = pd.concat([podo_dat,mesangial_in_glom,endothelial_in_glom,oldP_in_glom])\n",
    "    final = final.reset_index()\n",
    "    final = final.drop(columns={'index'})\n",
    "\n",
    "    # out_path is path to output file\n",
    "    file_out = file_in.replace(\"_eroded.csv\",\"glom_annot.csv\")\n",
    "\n",
    "    final.to_csv(file_out)"
   ]
  },
  {
   "cell_type": "markdown",
   "metadata": {},
   "source": [
    "### Calculate glom radius"
   ]
  },
  {
   "cell_type": "code",
   "execution_count": 40,
   "metadata": {
    "scrolled": true
   },
   "outputs": [
    {
     "name": "stdout",
     "output_type": "stream",
     "text": [
      "0\n",
      "/media/tim_nevelsk/WD_tim/PROJECTS/PODOCYTES/Spatial.Transcr/GSE190094_RAW/BTBR/podoClust/BeadLocationsPodoTim/GSM5713333_BeadLocationsAll_eroded.csv\n",
      "23\n"
     ]
    },
    {
     "name": "stderr",
     "output_type": "stream",
     "text": [
      "/home/tim_nevelsk/.local/lib/python3.8/site-packages/sklearn/cluster/_kmeans.py:870: FutureWarning: The default value of `n_init` will change from 10 to 'auto' in 1.4. Set the value of `n_init` explicitly to suppress the warning\n",
      "  warnings.warn(\n"
     ]
    },
    {
     "name": "stdout",
     "output_type": "stream",
     "text": [
      "1\n",
      "/media/tim_nevelsk/WD_tim/PROJECTS/PODOCYTES/Spatial.Transcr/GSE190094_RAW/BTBR/podoClust/BeadLocationsPodoTim/GSM5713342_BeadLocationsAll_eroded.csv\n",
      "15\n"
     ]
    },
    {
     "name": "stderr",
     "output_type": "stream",
     "text": [
      "/home/tim_nevelsk/.local/lib/python3.8/site-packages/sklearn/cluster/_kmeans.py:870: FutureWarning: The default value of `n_init` will change from 10 to 'auto' in 1.4. Set the value of `n_init` explicitly to suppress the warning\n",
      "  warnings.warn(\n"
     ]
    },
    {
     "name": "stdout",
     "output_type": "stream",
     "text": [
      "2\n",
      "/media/tim_nevelsk/WD_tim/PROJECTS/PODOCYTES/Spatial.Transcr/GSE190094_RAW/BTBR/podoClust/BeadLocationsPodoTim/GSM5713347_BeadLocationsAll_eroded.csv\n",
      "6\n",
      "3\n",
      "/media/tim_nevelsk/WD_tim/PROJECTS/PODOCYTES/Spatial.Transcr/GSE190094_RAW/BTBR/podoClust/BeadLocationsPodoTim/GSM5713348_BeadLocationsAll_eroded.csv\n"
     ]
    },
    {
     "name": "stderr",
     "output_type": "stream",
     "text": [
      "/home/tim_nevelsk/.local/lib/python3.8/site-packages/sklearn/cluster/_kmeans.py:870: FutureWarning: The default value of `n_init` will change from 10 to 'auto' in 1.4. Set the value of `n_init` explicitly to suppress the warning\n",
      "  warnings.warn(\n"
     ]
    },
    {
     "name": "stdout",
     "output_type": "stream",
     "text": [
      "17\n"
     ]
    },
    {
     "name": "stderr",
     "output_type": "stream",
     "text": [
      "/home/tim_nevelsk/.local/lib/python3.8/site-packages/sklearn/cluster/_kmeans.py:870: FutureWarning: The default value of `n_init` will change from 10 to 'auto' in 1.4. Set the value of `n_init` explicitly to suppress the warning\n",
      "  warnings.warn(\n"
     ]
    },
    {
     "name": "stdout",
     "output_type": "stream",
     "text": [
      "4\n",
      "/media/tim_nevelsk/WD_tim/PROJECTS/PODOCYTES/Spatial.Transcr/GSE190094_RAW/BTBR/podoClust/BeadLocationsPodoTim/GSM5713349_BeadLocationsAll_eroded.csv\n",
      "8\n",
      "5\n",
      "/media/tim_nevelsk/WD_tim/PROJECTS/PODOCYTES/Spatial.Transcr/GSE190094_RAW/BTBR/podoClust/BeadLocationsPodoTim/GSM5713350_BeadLocationsAll_eroded.csv\n"
     ]
    },
    {
     "name": "stderr",
     "output_type": "stream",
     "text": [
      "/home/tim_nevelsk/.local/lib/python3.8/site-packages/sklearn/cluster/_kmeans.py:870: FutureWarning: The default value of `n_init` will change from 10 to 'auto' in 1.4. Set the value of `n_init` explicitly to suppress the warning\n",
      "  warnings.warn(\n"
     ]
    },
    {
     "name": "stdout",
     "output_type": "stream",
     "text": [
      "11\n"
     ]
    },
    {
     "name": "stderr",
     "output_type": "stream",
     "text": [
      "/home/tim_nevelsk/.local/lib/python3.8/site-packages/sklearn/cluster/_kmeans.py:870: FutureWarning: The default value of `n_init` will change from 10 to 'auto' in 1.4. Set the value of `n_init` explicitly to suppress the warning\n",
      "  warnings.warn(\n"
     ]
    },
    {
     "name": "stdout",
     "output_type": "stream",
     "text": [
      "6\n",
      "/media/tim_nevelsk/WD_tim/PROJECTS/PODOCYTES/Spatial.Transcr/GSE190094_RAW/BTBR/podoClust/BeadLocationsPodoTim/GSM5713352_BeadLocationsAll_eroded.csv\n",
      "10\n"
     ]
    },
    {
     "name": "stderr",
     "output_type": "stream",
     "text": [
      "/home/tim_nevelsk/.local/lib/python3.8/site-packages/sklearn/cluster/_kmeans.py:870: FutureWarning: The default value of `n_init` will change from 10 to 'auto' in 1.4. Set the value of `n_init` explicitly to suppress the warning\n",
      "  warnings.warn(\n"
     ]
    },
    {
     "name": "stdout",
     "output_type": "stream",
     "text": [
      "7\n",
      "/media/tim_nevelsk/WD_tim/PROJECTS/PODOCYTES/Spatial.Transcr/GSE190094_RAW/BTBR/podoClust/BeadLocationsPodoTim/GSM5713353_BeadLocationsAll_eroded.csv\n",
      "6\n",
      "8\n",
      "/media/tim_nevelsk/WD_tim/PROJECTS/PODOCYTES/Spatial.Transcr/GSE190094_RAW/BTBR/podoClust/BeadLocationsPodoTim/GSM5713356_BeadLocationsAll_eroded.csv\n"
     ]
    },
    {
     "name": "stderr",
     "output_type": "stream",
     "text": [
      "/home/tim_nevelsk/.local/lib/python3.8/site-packages/sklearn/cluster/_kmeans.py:870: FutureWarning: The default value of `n_init` will change from 10 to 'auto' in 1.4. Set the value of `n_init` explicitly to suppress the warning\n",
      "  warnings.warn(\n"
     ]
    },
    {
     "name": "stdout",
     "output_type": "stream",
     "text": [
      "10\n"
     ]
    },
    {
     "name": "stderr",
     "output_type": "stream",
     "text": [
      "/home/tim_nevelsk/.local/lib/python3.8/site-packages/sklearn/cluster/_kmeans.py:870: FutureWarning: The default value of `n_init` will change from 10 to 'auto' in 1.4. Set the value of `n_init` explicitly to suppress the warning\n",
      "  warnings.warn(\n"
     ]
    },
    {
     "name": "stdout",
     "output_type": "stream",
     "text": [
      "9\n",
      "/media/tim_nevelsk/WD_tim/PROJECTS/PODOCYTES/Spatial.Transcr/GSE190094_RAW/BTBR/podoClust/BeadLocationsPodoTim/GSM5713357_BeadLocationsAll_eroded.csv\n",
      "18\n"
     ]
    },
    {
     "name": "stderr",
     "output_type": "stream",
     "text": [
      "/home/tim_nevelsk/.local/lib/python3.8/site-packages/sklearn/cluster/_kmeans.py:870: FutureWarning: The default value of `n_init` will change from 10 to 'auto' in 1.4. Set the value of `n_init` explicitly to suppress the warning\n",
      "  warnings.warn(\n"
     ]
    },
    {
     "name": "stdout",
     "output_type": "stream",
     "text": [
      "10\n",
      "/media/tim_nevelsk/WD_tim/PROJECTS/PODOCYTES/Spatial.Transcr/GSE190094_RAW/BTBR/podoClust/BeadLocationsPodoTim/GSM5713361_BeadLocationsAll_eroded.csv\n",
      "34\n"
     ]
    },
    {
     "name": "stderr",
     "output_type": "stream",
     "text": [
      "/home/tim_nevelsk/.local/lib/python3.8/site-packages/sklearn/cluster/_kmeans.py:870: FutureWarning: The default value of `n_init` will change from 10 to 'auto' in 1.4. Set the value of `n_init` explicitly to suppress the warning\n",
      "  warnings.warn(\n"
     ]
    },
    {
     "name": "stdout",
     "output_type": "stream",
     "text": [
      "11\n",
      "/media/tim_nevelsk/WD_tim/PROJECTS/PODOCYTES/Spatial.Transcr/GSE190094_RAW/BTBR/podoClust/BeadLocationsPodoTim/GSM5713362_BeadLocationsAll_eroded.csv\n",
      "18\n"
     ]
    },
    {
     "name": "stderr",
     "output_type": "stream",
     "text": [
      "/home/tim_nevelsk/.local/lib/python3.8/site-packages/sklearn/cluster/_kmeans.py:870: FutureWarning: The default value of `n_init` will change from 10 to 'auto' in 1.4. Set the value of `n_init` explicitly to suppress the warning\n",
      "  warnings.warn(\n"
     ]
    },
    {
     "name": "stdout",
     "output_type": "stream",
     "text": [
      "12\n",
      "/media/tim_nevelsk/WD_tim/PROJECTS/PODOCYTES/Spatial.Transcr/GSE190094_RAW/BTBR/podoClust/BeadLocationsPodoTim/GSM5713363_BeadLocationsAll_eroded.csv\n",
      "15\n",
      "13\n",
      "/media/tim_nevelsk/WD_tim/PROJECTS/PODOCYTES/Spatial.Transcr/GSE190094_RAW/BTBR/podoClust/BeadLocationsPodoTim/GSM5713364_BeadLocationsAll_eroded.csv\n"
     ]
    },
    {
     "name": "stderr",
     "output_type": "stream",
     "text": [
      "/home/tim_nevelsk/.local/lib/python3.8/site-packages/sklearn/cluster/_kmeans.py:870: FutureWarning: The default value of `n_init` will change from 10 to 'auto' in 1.4. Set the value of `n_init` explicitly to suppress the warning\n",
      "  warnings.warn(\n"
     ]
    },
    {
     "name": "stdout",
     "output_type": "stream",
     "text": [
      "19\n"
     ]
    },
    {
     "name": "stderr",
     "output_type": "stream",
     "text": [
      "/home/tim_nevelsk/.local/lib/python3.8/site-packages/sklearn/cluster/_kmeans.py:870: FutureWarning: The default value of `n_init` will change from 10 to 'auto' in 1.4. Set the value of `n_init` explicitly to suppress the warning\n",
      "  warnings.warn(\n"
     ]
    },
    {
     "name": "stdout",
     "output_type": "stream",
     "text": [
      "14\n",
      "/media/tim_nevelsk/WD_tim/PROJECTS/PODOCYTES/Spatial.Transcr/GSE190094_RAW/BTBR/podoClust/BeadLocationsPodoTim/GSM5713365_BeadLocationsAll_eroded.csv\n",
      "22\n"
     ]
    },
    {
     "name": "stderr",
     "output_type": "stream",
     "text": [
      "/home/tim_nevelsk/.local/lib/python3.8/site-packages/sklearn/cluster/_kmeans.py:870: FutureWarning: The default value of `n_init` will change from 10 to 'auto' in 1.4. Set the value of `n_init` explicitly to suppress the warning\n",
      "  warnings.warn(\n"
     ]
    },
    {
     "name": "stdout",
     "output_type": "stream",
     "text": [
      "15\n",
      "/media/tim_nevelsk/WD_tim/PROJECTS/PODOCYTES/Spatial.Transcr/GSE190094_RAW/BTBR/podoClust/BeadLocationsPodoTim/GSM5713366_BeadLocationsAll_eroded.csv\n",
      "29\n"
     ]
    },
    {
     "name": "stderr",
     "output_type": "stream",
     "text": [
      "/home/tim_nevelsk/.local/lib/python3.8/site-packages/sklearn/cluster/_kmeans.py:870: FutureWarning: The default value of `n_init` will change from 10 to 'auto' in 1.4. Set the value of `n_init` explicitly to suppress the warning\n",
      "  warnings.warn(\n"
     ]
    },
    {
     "name": "stdout",
     "output_type": "stream",
     "text": [
      "16\n",
      "/media/tim_nevelsk/WD_tim/PROJECTS/PODOCYTES/Spatial.Transcr/GSE190094_RAW/BTBR/podoClust/BeadLocationsPodoTim/GSM5713367_BeadLocationsAll_eroded.csv\n",
      "16\n"
     ]
    },
    {
     "name": "stderr",
     "output_type": "stream",
     "text": [
      "/home/tim_nevelsk/.local/lib/python3.8/site-packages/sklearn/cluster/_kmeans.py:870: FutureWarning: The default value of `n_init` will change from 10 to 'auto' in 1.4. Set the value of `n_init` explicitly to suppress the warning\n",
      "  warnings.warn(\n"
     ]
    },
    {
     "name": "stdout",
     "output_type": "stream",
     "text": [
      "17\n",
      "/media/tim_nevelsk/WD_tim/PROJECTS/PODOCYTES/Spatial.Transcr/GSE190094_RAW/BTBR/podoClust/BeadLocationsPodoTim/GSM5713368_BeadLocationsAll_eroded.csv\n",
      "7\n"
     ]
    },
    {
     "name": "stderr",
     "output_type": "stream",
     "text": [
      "/home/tim_nevelsk/.local/lib/python3.8/site-packages/sklearn/cluster/_kmeans.py:870: FutureWarning: The default value of `n_init` will change from 10 to 'auto' in 1.4. Set the value of `n_init` explicitly to suppress the warning\n",
      "  warnings.warn(\n"
     ]
    },
    {
     "name": "stdout",
     "output_type": "stream",
     "text": [
      "18\n",
      "/media/tim_nevelsk/WD_tim/PROJECTS/PODOCYTES/Spatial.Transcr/GSE190094_RAW/BTBR/podoClust/BeadLocationsPodoTim/GSM5713369_BeadLocationsAll_eroded.csv\n",
      "25\n"
     ]
    },
    {
     "name": "stderr",
     "output_type": "stream",
     "text": [
      "/home/tim_nevelsk/.local/lib/python3.8/site-packages/sklearn/cluster/_kmeans.py:870: FutureWarning: The default value of `n_init` will change from 10 to 'auto' in 1.4. Set the value of `n_init` explicitly to suppress the warning\n",
      "  warnings.warn(\n"
     ]
    },
    {
     "name": "stdout",
     "output_type": "stream",
     "text": [
      "19\n",
      "/media/tim_nevelsk/WD_tim/PROJECTS/PODOCYTES/Spatial.Transcr/GSE190094_RAW/BTBR/podoClust/BeadLocationsPodoTim/GSM5713370_BeadLocationsAll_eroded.csv\n",
      "11\n",
      "20\n",
      "/media/tim_nevelsk/WD_tim/PROJECTS/PODOCYTES/Spatial.Transcr/GSE190094_RAW/BTBR/podoClust/BeadLocationsPodoTim/GSM5713371_BeadLocationsAll_eroded.csv\n"
     ]
    },
    {
     "name": "stderr",
     "output_type": "stream",
     "text": [
      "/home/tim_nevelsk/.local/lib/python3.8/site-packages/sklearn/cluster/_kmeans.py:870: FutureWarning: The default value of `n_init` will change from 10 to 'auto' in 1.4. Set the value of `n_init` explicitly to suppress the warning\n",
      "  warnings.warn(\n"
     ]
    },
    {
     "name": "stdout",
     "output_type": "stream",
     "text": [
      "18\n"
     ]
    },
    {
     "name": "stderr",
     "output_type": "stream",
     "text": [
      "/home/tim_nevelsk/.local/lib/python3.8/site-packages/sklearn/cluster/_kmeans.py:870: FutureWarning: The default value of `n_init` will change from 10 to 'auto' in 1.4. Set the value of `n_init` explicitly to suppress the warning\n",
      "  warnings.warn(\n"
     ]
    },
    {
     "name": "stdout",
     "output_type": "stream",
     "text": [
      "21\n",
      "/media/tim_nevelsk/WD_tim/PROJECTS/PODOCYTES/Spatial.Transcr/GSE190094_RAW/BTBR/podoClust/BeadLocationsPodoTim/GSM5713372_BeadLocationsAll_eroded.csv\n",
      "9\n",
      "22\n",
      "/media/tim_nevelsk/WD_tim/PROJECTS/PODOCYTES/Spatial.Transcr/GSE190094_RAW/BTBR/podoClust/BeadLocationsPodoTim/GSM5713373_BeadLocationsAll_eroded.csv\n"
     ]
    },
    {
     "name": "stderr",
     "output_type": "stream",
     "text": [
      "/home/tim_nevelsk/.local/lib/python3.8/site-packages/sklearn/cluster/_kmeans.py:870: FutureWarning: The default value of `n_init` will change from 10 to 'auto' in 1.4. Set the value of `n_init` explicitly to suppress the warning\n",
      "  warnings.warn(\n",
      "/home/tim_nevelsk/.local/lib/python3.8/site-packages/sklearn/cluster/_kmeans.py:870: FutureWarning: The default value of `n_init` will change from 10 to 'auto' in 1.4. Set the value of `n_init` explicitly to suppress the warning\n",
      "  warnings.warn(\n"
     ]
    },
    {
     "name": "stdout",
     "output_type": "stream",
     "text": [
      "15\n",
      "23\n",
      "/media/tim_nevelsk/WD_tim/PROJECTS/PODOCYTES/Spatial.Transcr/GSE190094_RAW/BTBR/podoClust/BeadLocationsPodoTim/GSM5713374_BeadLocationsAll_eroded.csv\n",
      "16\n"
     ]
    },
    {
     "name": "stderr",
     "output_type": "stream",
     "text": [
      "/home/tim_nevelsk/.local/lib/python3.8/site-packages/sklearn/cluster/_kmeans.py:870: FutureWarning: The default value of `n_init` will change from 10 to 'auto' in 1.4. Set the value of `n_init` explicitly to suppress the warning\n",
      "  warnings.warn(\n"
     ]
    },
    {
     "name": "stdout",
     "output_type": "stream",
     "text": [
      "24\n",
      "/media/tim_nevelsk/WD_tim/PROJECTS/PODOCYTES/Spatial.Transcr/GSE190094_RAW/BTBR/podoClust/BeadLocationsPodoTim/GSM5713375_BeadLocationsAll_eroded.csv\n",
      "23\n"
     ]
    },
    {
     "name": "stderr",
     "output_type": "stream",
     "text": [
      "/home/tim_nevelsk/.local/lib/python3.8/site-packages/sklearn/cluster/_kmeans.py:870: FutureWarning: The default value of `n_init` will change from 10 to 'auto' in 1.4. Set the value of `n_init` explicitly to suppress the warning\n",
      "  warnings.warn(\n"
     ]
    },
    {
     "name": "stdout",
     "output_type": "stream",
     "text": [
      "25\n",
      "/media/tim_nevelsk/WD_tim/PROJECTS/PODOCYTES/Spatial.Transcr/GSE190094_RAW/BTBR/podoClust/BeadLocationsPodoTim/GSM5713376_BeadLocationsAll_eroded.csv\n",
      "20\n"
     ]
    },
    {
     "name": "stderr",
     "output_type": "stream",
     "text": [
      "/home/tim_nevelsk/.local/lib/python3.8/site-packages/sklearn/cluster/_kmeans.py:870: FutureWarning: The default value of `n_init` will change from 10 to 'auto' in 1.4. Set the value of `n_init` explicitly to suppress the warning\n",
      "  warnings.warn(\n"
     ]
    },
    {
     "name": "stdout",
     "output_type": "stream",
     "text": [
      "26\n",
      "/media/tim_nevelsk/WD_tim/PROJECTS/PODOCYTES/Spatial.Transcr/GSE190094_RAW/BTBR/podoClust/BeadLocationsPodoTim/GSM5713377_BeadLocationsAll_eroded.csv\n",
      "21\n"
     ]
    },
    {
     "name": "stderr",
     "output_type": "stream",
     "text": [
      "/home/tim_nevelsk/.local/lib/python3.8/site-packages/sklearn/cluster/_kmeans.py:870: FutureWarning: The default value of `n_init` will change from 10 to 'auto' in 1.4. Set the value of `n_init` explicitly to suppress the warning\n",
      "  warnings.warn(\n"
     ]
    },
    {
     "name": "stdout",
     "output_type": "stream",
     "text": [
      "27\n",
      "/media/tim_nevelsk/WD_tim/PROJECTS/PODOCYTES/Spatial.Transcr/GSE190094_RAW/BTBR/podoClust/BeadLocationsPodoTim/GSM5713378_BeadLocationsAll_eroded.csv\n",
      "21\n",
      "28\n",
      "/media/tim_nevelsk/WD_tim/PROJECTS/PODOCYTES/Spatial.Transcr/GSE190094_RAW/BTBR/podoClust/BeadLocationsPodoTim/GSM5713380_BeadLocationsAll_eroded.csv\n"
     ]
    },
    {
     "name": "stderr",
     "output_type": "stream",
     "text": [
      "/home/tim_nevelsk/.local/lib/python3.8/site-packages/sklearn/cluster/_kmeans.py:870: FutureWarning: The default value of `n_init` will change from 10 to 'auto' in 1.4. Set the value of `n_init` explicitly to suppress the warning\n",
      "  warnings.warn(\n"
     ]
    },
    {
     "name": "stdout",
     "output_type": "stream",
     "text": [
      "21\n"
     ]
    },
    {
     "name": "stderr",
     "output_type": "stream",
     "text": [
      "/home/tim_nevelsk/.local/lib/python3.8/site-packages/sklearn/cluster/_kmeans.py:870: FutureWarning: The default value of `n_init` will change from 10 to 'auto' in 1.4. Set the value of `n_init` explicitly to suppress the warning\n",
      "  warnings.warn(\n"
     ]
    }
   ],
   "source": [
    "# directory with coordinate files\n",
    "input_dir = '/media/tim_nevelsk/WD_tim/PROJECTS/PODOCYTES/Spatial.Transcr/GSE190094_RAW/BTBR/podoClust/BeadLocationsPodoTim/*All_eroded.csv'\n",
    "\n",
    "# list of files\n",
    "input_files = glob.glob(input_dir)\n",
    "input_files = sorted(input_files)\n",
    "\n",
    "# list of K parameters for each sample\n",
    "# K = [22,11,14,15,7,18,17,19] for og podo annotations\n",
    "# K = [23,12,23,25,16,22,17,32] # GSM5713333,42,71,75,76,78,48,69\n",
    "# K = [23,12,25,16,22,17,32] # GSM5713333,42,75,76,78,48,69, removed sample 71\n",
    "K = [23,15,6,17,8,11,10,6,10,18,34,18,15,19,22,29,16,7,25,11,18,9,15,16,23,20,21,21,21] # GSM5713333,42,75,76,78,48,69, removed sample 71\n",
    "\n",
    "\n",
    "for ii in range(len(input_files)) :\n",
    "\n",
    "    print(ii)\n",
    "\n",
    "    file_in = input_files[ii]\n",
    "    print(file_in)\n",
    "    # read in coordinate file\n",
    "    allcells_dat=pd.read_csv(file_in,index_col=0)\n",
    "\n",
    "    # select podocyte and non-podocyte cells\n",
    "    podo_dat = allcells_dat[allcells_dat ['cell_type'] == 'Podocyte' ]\n",
    "    podo_dat = podo_dat.reset_index()\n",
    "    podo_dat = podo_dat.drop(columns={'index'})\n",
    "    other_cells_dat = allcells_dat[ allcells_dat ['cell_type'] != 'Podocyte' ]\n",
    "    other_cells_dat = other_cells_dat.reset_index()\n",
    "    other_cells_dat = other_cells_dat.drop(columns={'index'})\n",
    "    \n",
    "    ### find cluster centers of curated podocyte markers\n",
    "    # set n_clusters to number of podocyte clusters in array\n",
    "    n_clusters=K[ii]\n",
    "    print(n_clusters)\n",
    "\n",
    "    coords = np.array(podo_dat[['x','y']])\n",
    "    kmeans = KMeans(n_clusters=n_clusters, random_state=42 ).fit(coords)\n",
    "    podo_cluster_centers = kmeans.cluster_centers_\n",
    "    labels = kmeans.labels_\n",
    "    podo_dat['cluster'] = labels\n",
    "   \n",
    "    #  convert to df   \n",
    "    podo_cluster_centers_df=pd.DataFrame(podo_cluster_centers,columns= ['x', 'y'])\n",
    "\n",
    "    \n",
    "    ## compute cluster radii \n",
    "    cl_radii = compute_cluster_radii( podo_cluster_centers , podo_dat)\n",
    "    #  convert to df   \n",
    "    cl_radii_df=pd.DataFrame({'radii':cl_radii})\n",
    "\n",
    "    # merge \n",
    "    glom_coord_df = pd.concat( [cl_radii_df, podo_cluster_centers_df], axis=1)\n",
    "    \n",
    "    # out_path is path to output file\n",
    "    file_out = file_in.replace(\"All_eroded.csv\",\"_glom_coord.csv\")\n",
    "    glom_coord_df.to_csv(file_out)"
   ]
  },
  {
   "cell_type": "code",
   "execution_count": null,
   "metadata": {},
   "outputs": [],
   "source": []
  }
 ],
 "metadata": {
  "kernelspec": {
   "display_name": "Python 3 (ipykernel)",
   "language": "python",
   "name": "python3"
  },
  "language_info": {
   "codemirror_mode": {
    "name": "ipython",
    "version": 3
   },
   "file_extension": ".py",
   "mimetype": "text/x-python",
   "name": "python",
   "nbconvert_exporter": "python",
   "pygments_lexer": "ipython3",
   "version": "3.8.10"
  }
 },
 "nbformat": 4,
 "nbformat_minor": 4
}
